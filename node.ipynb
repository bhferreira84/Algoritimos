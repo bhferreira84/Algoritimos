{
  "nbformat": 4,
  "nbformat_minor": 0,
  "metadata": {
    "colab": {
      "provenance": [],
      "authorship_tag": "ABX9TyMgEw7K0pRHM49m8n/IKrGi",
      "include_colab_link": true
    },
    "kernelspec": {
      "name": "python3",
      "display_name": "Python 3"
    },
    "language_info": {
      "name": "python"
    }
  },
  "cells": [
    {
      "cell_type": "markdown",
      "metadata": {
        "id": "view-in-github",
        "colab_type": "text"
      },
      "source": [
        "<a href=\"https://colab.research.google.com/github/bhferreira84/Algoritimos/blob/main/node.ipynb\" target=\"_parent\"><img src=\"https://colab.research.google.com/assets/colab-badge.svg\" alt=\"Open In Colab\"/></a>"
      ]
    },
    {
      "cell_type": "code",
      "execution_count": 188,
      "metadata": {
        "id": "MDxa8u2OFFq2"
      },
      "outputs": [],
      "source": [
        "class Node:\n",
        "\n",
        "    def __init__(self, data):\n",
        "      self.data = data\n",
        "      self.next = None\n",
        "      self.prev = None"
      ]
    },
    {
      "cell_type": "code",
      "source": [
        "class LinkedList:\n",
        "  def __init__(self):\n",
        "    self.root = None\n",
        "    self.size = 0\n",
        "\n",
        "\n",
        "  def append(self, elem):\n",
        "    #Insersão quando a lista não está vazia\n",
        "    if self.root:\n",
        "      ponteiro = self.root\n",
        "      while ponteiro.next:\n",
        "        ponteiro = ponteiro.next\n",
        "      ponteiro.next = Node(elem)\n",
        "\n",
        "    else:\n",
        "      # primeira insersão\n",
        "      self.root = Node(elem)\n",
        "    self.size += 1\n",
        "\n",
        "  def __len__(self):\n",
        "    return self.size\n",
        "\n",
        "  def _getnode(self, index):\n",
        "    ponteiro= self.root\n",
        "    for i in range(index):\n",
        "      if ponteiro:\n",
        "        ponteiro = ponteiro.next\n",
        "      else:\n",
        "        raise IndexError('list index out of range')\n",
        "    return ponteiro\n",
        "\n",
        "  def __getitem__(self, index):# A função retorna o valor da posição idx  a= lista[3]\n",
        "    ponteiro = self.root #inicializa o primeiro elemento da lista\n",
        "    ''' Checa se o index está contido na lista'''\n",
        "    ponteiro = self._getnode(index)\n",
        "\n",
        "    if ponteiro:\n",
        "      return ponteiro.data\n",
        "    raise IndexError('list index out of range')\n",
        "\n",
        "  def __setitem__(self, index, elem): # A função acessa a posição idx e inputa um elem\n",
        "    ponteiro = self.root #inicializa o primeiro elemento da lista\n",
        "    #lista[3]=a\n",
        "    ponteiro = self._getnode(index) # Checa se o index está contido na lista\n",
        "    if ponteiro:\n",
        "      ponteiro.data = elem\n",
        "    else:\n",
        "      raise IndexError('list index out of range')\n",
        "\n",
        "  def index(self, elem):\n",
        "    ponteiro = self.root\n",
        "    cont= 0\n",
        "    while ponteiro: # Checa se o nó tem dado\n",
        "      if ponteiro.data == elem:\n",
        "        return cont\n",
        "      ponteiro = ponteiro.next\n",
        "      cont += 1\n",
        "\n",
        "    raise ValueError(f'{elem} is not in list')\n",
        "\n",
        "  def insert(self, index, elem):\n",
        "    node = Node(elem)\n",
        "    if index == 0:\n",
        "      node.next = self.root\n",
        "      self.root = node\n",
        "    elif self.size < index:\n",
        "      raise IndexError('list index out of range')\n",
        "    else:\n",
        "      ponteiro = self._getnode(index-1)\n",
        "      node.next = ponteiro.next\n",
        "      ponteiro.next = node\n",
        "    self.size+=1\n",
        "\n",
        "  def remove(self, elem):\n",
        "    if self.root == None:\n",
        "      raise ValueError(f'{elem} The list is empty')\n",
        "    elif self.root.data == elem:\n",
        "      self.root = self.root.next\n",
        "      self.size -= 1\n",
        "      return True\n",
        "    else:\n",
        "      antecessor =self.root\n",
        "      ponteiro = self.root.next\n",
        "      while ponteiro:\n",
        "        if ponteiro.data == elem:\n",
        "           antecessor.next= ponteiro.next\n",
        "           ponteiro.next =None\n",
        "           self.size -= 1\n",
        "           return True\n",
        "        antecessor = ponteiro\n",
        "        ponteiro = ponteiro.next\n",
        "    raise ValueError (f'{elem} is not in list')\n",
        "\n",
        "  def __repr__(self):\n",
        "    r = \"\"\n",
        "    ponteiro= self.root\n",
        "    while ponteiro:\n",
        "      r = r + str(ponteiro.data) + \"->\"\n",
        "      ponteiro= ponteiro.next\n",
        "    return r\n",
        "\n",
        "  def __str__(self):\n",
        "    return self.__repr__()\n",
        "\n",
        "\n"
      ],
      "metadata": {
        "id": "vP5BCeerIBtx"
      },
      "execution_count": 189,
      "outputs": []
    },
    {
      "cell_type": "code",
      "source": [
        "lista = LinkedList()\n",
        "lista.append(8)\n",
        "lista.append(18)\n",
        "lista.append(54)"
      ],
      "metadata": {
        "id": "C6cCOqYjYS6V"
      },
      "execution_count": 190,
      "outputs": []
    },
    {
      "cell_type": "code",
      "source": [
        "lista"
      ],
      "metadata": {
        "colab": {
          "base_uri": "https://localhost:8080/"
        },
        "id": "_HvjW_OJe1b7",
        "outputId": "7030dfe5-a8fd-447b-cc06-0b1615e1c6d0"
      },
      "execution_count": 200,
      "outputs": [
        {
          "output_type": "execute_result",
          "data": {
            "text/plain": [
              "8->54->81->18->"
            ]
          },
          "metadata": {},
          "execution_count": 200
        }
      ]
    },
    {
      "cell_type": "code",
      "source": [
        "lista.index(18)"
      ],
      "metadata": {
        "id": "oenWCWU8cDCE",
        "outputId": "ddb81c85-4e9a-44f9-e2fd-aa6565d1e041",
        "colab": {
          "base_uri": "https://localhost:8080/"
        }
      },
      "execution_count": 193,
      "outputs": [
        {
          "output_type": "execute_result",
          "data": {
            "text/plain": [
              "1"
            ]
          },
          "metadata": {},
          "execution_count": 193
        }
      ]
    },
    {
      "cell_type": "code",
      "source": [
        "lista.insert(3,18)"
      ],
      "metadata": {
        "id": "Di-XUUCWrz0s"
      },
      "execution_count": 199,
      "outputs": []
    },
    {
      "cell_type": "code",
      "source": [
        "lista.remove(18)"
      ],
      "metadata": {
        "id": "8AmQ-kwP6pjL",
        "outputId": "4c6dfd63-cf1f-4b2c-da12-61fc08a9655b",
        "colab": {
          "base_uri": "https://localhost:8080/"
        }
      },
      "execution_count": 196,
      "outputs": [
        {
          "output_type": "execute_result",
          "data": {
            "text/plain": [
              "True"
            ]
          },
          "metadata": {},
          "execution_count": 196
        }
      ]
    },
    {
      "cell_type": "code",
      "source": [
        "len(lista)"
      ],
      "metadata": {
        "colab": {
          "base_uri": "https://localhost:8080/"
        },
        "id": "hBuBFSBiS5Pd",
        "outputId": "77694252-bef1-41e2-da39-7beaafe9bce7"
      },
      "execution_count": 198,
      "outputs": [
        {
          "output_type": "execute_result",
          "data": {
            "text/plain": [
              "3"
            ]
          },
          "metadata": {},
          "execution_count": 198
        }
      ]
    },
    {
      "cell_type": "code",
      "source": [],
      "metadata": {
        "id": "7gpnq6rw64B4"
      },
      "execution_count": null,
      "outputs": []
    }
  ]
}