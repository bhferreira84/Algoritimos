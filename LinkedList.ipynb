{
  "nbformat": 4,
  "nbformat_minor": 0,
  "metadata": {
    "colab": {
      "provenance": [],
      "authorship_tag": "ABX9TyMop5Wq6iqlsoxZ3uDSOKcl",
      "include_colab_link": true
    },
    "kernelspec": {
      "name": "python3",
      "display_name": "Python 3"
    },
    "language_info": {
      "name": "python"
    }
  },
  "cells": [
    {
      "cell_type": "markdown",
      "metadata": {
        "id": "view-in-github",
        "colab_type": "text"
      },
      "source": [
        "<a href=\"https://colab.research.google.com/github/bhferreira84/Algoritimos/blob/main/LinkedList.ipynb\" target=\"_parent\"><img src=\"https://colab.research.google.com/assets/colab-badge.svg\" alt=\"Open In Colab\"/></a>"
      ]
    },
    {
      "cell_type": "code",
      "execution_count": 14,
      "metadata": {
        "id": "MDxa8u2OFFq2"
      },
      "outputs": [],
      "source": [
        "class Node:\n",
        "\n",
        "    def __init__(self, data):\n",
        "      self.data = data\n",
        "      self.right = None\n",
        "      self.left = None"
      ]
    },
    {
      "cell_type": "code",
      "source": [
        "class LinkedList:\n",
        "  def __init__(self):\n",
        "    self.root = None\n",
        "    self.size = 0\n",
        "\n",
        "\n",
        "  def append(self, elem):\n",
        "    #Insersão quando a lista não está vazia\n",
        "    if self.root:\n",
        "      ponteiro = self.root\n",
        "      while ponteiro.right:\n",
        "        ponteiro = ponteiro.right\n",
        "      ponteiro.right = Node(elem)\n",
        "\n",
        "    else:\n",
        "      # primeira insersão\n",
        "      self.root = Node(elem)\n",
        "    self.size += 1\n",
        "\n",
        "  def __len__(self):\n",
        "    return self.size\n",
        "\n",
        "  def _getnode(self, index):\n",
        "    ponteiro= self.root\n",
        "    for i in range(index):\n",
        "      if ponteiro:\n",
        "        ponteiro = ponteiro.right\n",
        "      else:\n",
        "        raise IndexError('list index out of range')\n",
        "    return ponteiro\n",
        "\n",
        "  def __getitem__(self, index):# A função retorna o valor da posição idx  a= lista[3]\n",
        "    ponteiro = self.root #inicializa o primeiro elemento da lista\n",
        "    ''' Checa se o index está contido na lista'''\n",
        "    ponteiro = self._getnode(index)\n",
        "\n",
        "    if ponteiro:\n",
        "      return ponteiro.data\n",
        "    raise IndexError('list index out of range')\n",
        "\n",
        "  def __setitem__(self, index, elem): # A função acessa a posição idx e inputa um elem\n",
        "    ponteiro = self.root #inicializa o primeiro elemento da lista\n",
        "    #lista[3]=a\n",
        "    ponteiro = self._getnode(index) # Checa se o index está contido na lista\n",
        "    if ponteiro:\n",
        "      ponteiro.data = elem\n",
        "    else:\n",
        "      raise IndexError('list index out of range')\n",
        "\n",
        "  def index(self, elem):\n",
        "    ponteiro = self.root\n",
        "    cont= 0\n",
        "    while ponteiro: # Checa se o nó tem dado\n",
        "      if ponteiro.data == elem:\n",
        "        return cont\n",
        "      ponteiro = ponteiro.right\n",
        "      cont += 1\n",
        "\n",
        "    raise ValueError(f'{elem} is not in list')\n",
        "\n",
        "  def insert(self, index, elem):\n",
        "    node = Node(elem)\n",
        "    if index == 0:\n",
        "      node.next = self.root\n",
        "      self.root = node\n",
        "    elif self.size < index:\n",
        "      raise IndexError('list index out of range')\n",
        "    else:\n",
        "      ponteiro = self._getnode(index-1)\n",
        "      node.right = ponteiro.right\n",
        "      ponteiro.right = node\n",
        "    self.size+=1\n",
        "\n",
        "  def remove(self, elem):\n",
        "    if self.root == None:\n",
        "      raise ValueError(f'{elem} The list is empty')\n",
        "    elif self.root.data == elem:\n",
        "      self.root = self.root.right\n",
        "      self.size -= 1\n",
        "      return True\n",
        "    else:\n",
        "      antecessor =self.root\n",
        "      ponteiro = self.root.right\n",
        "      while ponteiro:\n",
        "        if ponteiro.data == elem:\n",
        "           antecessor.right= ponteiro.right\n",
        "           ponteiro.right =None\n",
        "           self.size -= 1\n",
        "           return True\n",
        "        antecessor = ponteiro\n",
        "        ponteiro = ponteiro.right\n",
        "    raise ValueError (f'{elem} is not in list')\n",
        "\n",
        "  def __repr__(self):\n",
        "    r = \"\"\n",
        "    ponteiro= self.root\n",
        "    while ponteiro:\n",
        "      r = r + str(ponteiro.data) + \"->\"\n",
        "      ponteiro= ponteiro.right\n",
        "    return r\n",
        "\n",
        "  def __str__(self):\n",
        "    return self.__repr__()\n",
        "\n",
        "\n"
      ],
      "metadata": {
        "id": "vP5BCeerIBtx"
      },
      "execution_count": 15,
      "outputs": []
    },
    {
      "cell_type": "code",
      "source": [
        "lista = LinkedList()\n",
        "lista.append(11)\n",
        "lista.append(10)\n",
        "lista.append(5)"
      ],
      "metadata": {
        "id": "C6cCOqYjYS6V"
      },
      "execution_count": 16,
      "outputs": []
    },
    {
      "cell_type": "code",
      "source": [
        "lista"
      ],
      "metadata": {
        "colab": {
          "base_uri": "https://localhost:8080/"
        },
        "id": "_HvjW_OJe1b7",
        "outputId": "99c86fd2-cc98-47ae-f1e1-e84ec69442ae"
      },
      "execution_count": 20,
      "outputs": [
        {
          "output_type": "execute_result",
          "data": {
            "text/plain": [
              "11->18->10->5->"
            ]
          },
          "metadata": {},
          "execution_count": 20
        }
      ]
    },
    {
      "cell_type": "code",
      "source": [
        "lista.index(10)"
      ],
      "metadata": {
        "id": "oenWCWU8cDCE",
        "outputId": "7c1d7b26-2f5c-494c-9e88-8f1ee1cfe1e1",
        "colab": {
          "base_uri": "https://localhost:8080/"
        }
      },
      "execution_count": 18,
      "outputs": [
        {
          "output_type": "execute_result",
          "data": {
            "text/plain": [
              "1"
            ]
          },
          "metadata": {},
          "execution_count": 18
        }
      ]
    },
    {
      "cell_type": "code",
      "source": [
        "lista.insert(1,18)"
      ],
      "metadata": {
        "id": "Di-XUUCWrz0s"
      },
      "execution_count": 19,
      "outputs": []
    },
    {
      "cell_type": "code",
      "source": [
        "lista.remove(18)"
      ],
      "metadata": {
        "id": "8AmQ-kwP6pjL",
        "outputId": "3879d907-43bd-49f4-dd7e-5e0c6d644768",
        "colab": {
          "base_uri": "https://localhost:8080/"
        }
      },
      "execution_count": 9,
      "outputs": [
        {
          "output_type": "execute_result",
          "data": {
            "text/plain": [
              "True"
            ]
          },
          "metadata": {},
          "execution_count": 9
        }
      ]
    },
    {
      "cell_type": "code",
      "source": [
        "len(lista)"
      ],
      "metadata": {
        "colab": {
          "base_uri": "https://localhost:8080/"
        },
        "id": "hBuBFSBiS5Pd",
        "outputId": "5e47cd6a-f085-48ed-9f4b-5faea180554c"
      },
      "execution_count": 13,
      "outputs": [
        {
          "output_type": "execute_result",
          "data": {
            "text/plain": [
              "4"
            ]
          },
          "metadata": {},
          "execution_count": 13
        }
      ]
    },
    {
      "cell_type": "code",
      "source": [],
      "metadata": {
        "id": "7gpnq6rw64B4"
      },
      "execution_count": null,
      "outputs": []
    }
  ]
}