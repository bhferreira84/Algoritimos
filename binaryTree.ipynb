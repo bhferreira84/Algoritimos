{
  "nbformat": 4,
  "nbformat_minor": 0,
  "metadata": {
    "colab": {
      "provenance": [],
      "authorship_tag": "ABX9TyNLd+iliakiYiZCZR8CK0fI",
      "include_colab_link": true
    },
    "kernelspec": {
      "name": "python3",
      "display_name": "Python 3"
    },
    "language_info": {
      "name": "python"
    }
  },
  "cells": [
    {
      "cell_type": "markdown",
      "metadata": {
        "id": "view-in-github",
        "colab_type": "text"
      },
      "source": [
        "<a href=\"https://colab.research.google.com/github/bhferreira84/Algoritimos/blob/main/binaryTree.ipynb\" target=\"_parent\"><img src=\"https://colab.research.google.com/assets/colab-badge.svg\" alt=\"Open In Colab\"/></a>"
      ]
    },
    {
      "cell_type": "code",
      "execution_count": null,
      "metadata": {
        "id": "SP3Z5Eb_ZrMh"
      },
      "outputs": [],
      "source": [
        "class Node:\n",
        "\n",
        "    def __init__(self, data):\n",
        "      self.data = data\n",
        "      self.right = None\n",
        "      self.left = None"
      ]
    },
    {
      "cell_type": "code",
      "source": [
        "class BinaryTree"
      ],
      "metadata": {
        "id": "Eu9_NpYtaGEt"
      },
      "execution_count": null,
      "outputs": []
    }
  ]
}