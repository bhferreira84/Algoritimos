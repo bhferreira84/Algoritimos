{
  "nbformat": 4,
  "nbformat_minor": 0,
  "metadata": {
    "colab": {
      "provenance": [],
      "authorship_tag": "ABX9TyPI89IPmfDNOjWOCt3PQ3GM",
      "include_colab_link": true
    },
    "kernelspec": {
      "name": "python3",
      "display_name": "Python 3"
    },
    "language_info": {
      "name": "python"
    }
  },
  "cells": [
    {
      "cell_type": "markdown",
      "metadata": {
        "id": "view-in-github",
        "colab_type": "text"
      },
      "source": [
        "<a href=\"https://colab.research.google.com/github/bhferreira84/Algoritimos/blob/main/binaryTree.ipynb\" target=\"_parent\"><img src=\"https://colab.research.google.com/assets/colab-badge.svg\" alt=\"Open In Colab\"/></a>"
      ]
    },
    {
      "cell_type": "code",
      "execution_count": 68,
      "metadata": {
        "id": "SP3Z5Eb_ZrMh"
      },
      "outputs": [],
      "source": [
        "class Node:\n",
        "\n",
        "    def __init__(self, data):\n",
        "      self.data = data\n",
        "      self.right = None\n",
        "      self.left = None\n",
        "\n",
        "    def __str__(self):\n",
        "      return str(self.data)"
      ]
    },
    {
      "cell_type": "code",
      "source": [
        "class BinaryTree:\n",
        "  def __init__(self, data=None):\n",
        "    if data:\n",
        "      node = Node(data)\n",
        "      self.root = node\n",
        "    else:\n",
        "      self.root = None\n",
        "\n",
        "  def inorder(self, node=None):\n",
        "    if node is None:\n",
        "      node =self.root\n",
        "    if node.left:\n",
        "      print('(',end='')\n",
        "      self.inorder(node.left)\n",
        "    print(f'{node}', end ='')\n",
        "    if node.right:\n",
        "      self.inorder(node.right)\n",
        "      print(')', end ='')\n",
        "\n",
        "  def posorder(self, node=None):\n",
        "    if node is None:\n",
        "      node = self.root\n",
        "    if node.left:\n",
        "      self.posorder(node.left)\n",
        "    if node.right:\n",
        "      self.posorder(node.right)\n",
        "    print(node, end='')\n",
        "\n",
        "\n",
        "  def height(self, node=None):\n",
        "    if node is None:\n",
        "      node = self.root\n",
        "    hleft= 0\n",
        "    hright = 0\n",
        "    if node.left:\n",
        "      hleft=self.height(node.left)\n",
        "    if node.right:\n",
        "      hright=self.height(node.right)\n",
        "    if hleft > hright:\n",
        "      return hleft +1\n",
        "    return hright +1"
      ],
      "metadata": {
        "id": "Eu9_NpYtaGEt"
      },
      "execution_count": 70,
      "outputs": []
    },
    {
      "cell_type": "code",
      "source": [
        "# tree = BinaryTree(7)\n",
        "# tree.root.left = Node(18)\n",
        "# tree.root.right = Node(14)"
      ],
      "metadata": {
        "id": "6uSd6ze3GU6l"
      },
      "execution_count": 8,
      "outputs": []
    },
    {
      "cell_type": "code",
      "source": [
        "# print(f'Raiz = {tree.root}\\nNó esquerdo = {tree.root.left}\\nNó direito = {tree.root.right}')"
      ],
      "metadata": {
        "id": "4beSOfupHNZl"
      },
      "execution_count": 9,
      "outputs": []
    },
    {
      "cell_type": "code",
      "source": [
        "tree = BinaryTree()\n",
        "n1 = Node('a')\n",
        "n2 = Node('+')\n",
        "n3 = Node('*')\n",
        "n4 = Node('b')\n",
        "n5 = Node('-')\n",
        "n6 = Node('/')\n",
        "n7 = Node('c')\n",
        "n8 = Node('d')\n",
        "n9 = Node('e')\n",
        "\n",
        "n6.left = n7\n",
        "n6.right = n8\n",
        "n5.left = n6\n",
        "n5.right = n9\n",
        "n3.left = n4\n",
        "n3.right = n5\n",
        "n2.left = n1\n",
        "n2.right = n3\n",
        "\n",
        "tree.root = n2\n",
        "\n"
      ],
      "metadata": {
        "id": "jy3tkGv8HRv_"
      },
      "execution_count": 40,
      "outputs": []
    },
    {
      "cell_type": "code",
      "source": [
        "tree.inorder()"
      ],
      "metadata": {
        "colab": {
          "base_uri": "https://localhost:8080/"
        },
        "id": "aDNK8WQBPzeH",
        "outputId": "6d0ab7c6-0116-4302-a6a9-55d0807b8cd5"
      },
      "execution_count": 41,
      "outputs": [
        {
          "output_type": "stream",
          "name": "stdout",
          "text": [
            "(a+(b*((c/d)-e)))"
          ]
        }
      ]
    },
    {
      "cell_type": "markdown",
      "source": [],
      "metadata": {
        "id": "ezmXzTM8oALn"
      }
    },
    {
      "cell_type": "code",
      "source": [
        "tree = BinaryTree()\n",
        "n1 = Node('I')\n",
        "n2 = Node('N')\n",
        "n3 = Node('S')\n",
        "n4 = Node('C')\n",
        "n5 = Node('R')\n",
        "n6 = Node('E')\n",
        "n7 = Node('V')\n",
        "n8 = Node('A')\n",
        "n10= Node('-')\n",
        "n9 = Node('S')\n",
        "n0 = Node('E')\n",
        "\n",
        "n0.left = n6\n",
        "n0.right = n9\n",
        "n6.left = n1\n",
        "n6.right = n5\n",
        "n5.left = n2\n",
        "n5.right = n4\n",
        "n4.right = n3\n",
        "n9.left = n8\n",
        "n9.right = n10\n",
        "n8.right = n7\n",
        "\n",
        "tree.root = n0"
      ],
      "metadata": {
        "id": "np9mVyaUeziu"
      },
      "execution_count": 71,
      "outputs": []
    },
    {
      "cell_type": "code",
      "source": [
        "tree.posorder()"
      ],
      "metadata": {
        "id": "tLukJKkzfHcF",
        "outputId": "fb1b3328-5e60-45e3-dc19-46158c026fcf",
        "colab": {
          "base_uri": "https://localhost:8080/"
        }
      },
      "execution_count": 72,
      "outputs": [
        {
          "output_type": "stream",
          "name": "stdout",
          "text": [
            "INSCREVA-SE"
          ]
        }
      ]
    },
    {
      "cell_type": "code",
      "source": [
        "print('Altura: ',tree.height(n5))"
      ],
      "metadata": {
        "id": "2iLywYymlzPm",
        "outputId": "d6e1bf40-4744-46ba-9358-fe8addeaf585",
        "colab": {
          "base_uri": "https://localhost:8080/"
        }
      },
      "execution_count": 74,
      "outputs": [
        {
          "output_type": "stream",
          "name": "stdout",
          "text": [
            "Altura:  3\n"
          ]
        }
      ]
    }
  ]
}