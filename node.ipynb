{
  "nbformat": 4,
  "nbformat_minor": 0,
  "metadata": {
    "colab": {
      "provenance": [],
      "authorship_tag": "ABX9TyPPvt0YtI2xdK0x83SbaVhO",
      "include_colab_link": true
    },
    "kernelspec": {
      "name": "python3",
      "display_name": "Python 3"
    },
    "language_info": {
      "name": "python"
    }
  },
  "cells": [
    {
      "cell_type": "markdown",
      "metadata": {
        "id": "view-in-github",
        "colab_type": "text"
      },
      "source": [
        "<a href=\"https://colab.research.google.com/github/bhferreira84/Algoritimos/blob/main/node.ipynb\" target=\"_parent\"><img src=\"https://colab.research.google.com/assets/colab-badge.svg\" alt=\"Open In Colab\"/></a>"
      ]
    },
    {
      "cell_type": "code",
      "execution_count": null,
      "metadata": {
        "id": "MDxa8u2OFFq2"
      },
      "outputs": [],
      "source": [
        "class Node:\n",
        "\n",
        "    def _init_(self, data):\n",
        "      self.data = data\n",
        "      self.next = None\n",
        "      self.prev = None"
      ]
    },
    {
      "cell_type": "code",
      "source": [
        "class LinkedList:\n",
        "  def _init_(self):\n",
        "    self.root = None\n",
        "    self.size = 0\n",
        "\n",
        "\n",
        "  def append(self, elem):\n",
        "    #Insersão quando a lista não está vazia\n",
        "    if self.root:\n",
        "      ponteiro = self.root\n",
        "      while(ponteiro.next):\n",
        "        ponteiro = ponteiro.next\n",
        "\n",
        "      pass\n",
        "    else:\n",
        "      # primeira insersão\n",
        "      self.root = Node(elem)"
      ],
      "metadata": {
        "id": "vP5BCeerIBtx"
      },
      "execution_count": null,
      "outputs": []
    }
  ]
}