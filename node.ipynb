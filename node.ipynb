{
  "nbformat": 4,
  "nbformat_minor": 0,
  "metadata": {
    "colab": {
      "provenance": [],
      "authorship_tag": "ABX9TyMFvqCBX/uQCnM7C4JpiPUn",
      "include_colab_link": true
    },
    "kernelspec": {
      "name": "python3",
      "display_name": "Python 3"
    },
    "language_info": {
      "name": "python"
    }
  },
  "cells": [
    {
      "cell_type": "markdown",
      "metadata": {
        "id": "view-in-github",
        "colab_type": "text"
      },
      "source": [
        "<a href=\"https://colab.research.google.com/github/bhferreira84/Algoritimos/blob/main/node.ipynb\" target=\"_parent\"><img src=\"https://colab.research.google.com/assets/colab-badge.svg\" alt=\"Open In Colab\"/></a>"
      ]
    },
    {
      "cell_type": "code",
      "execution_count": 34,
      "metadata": {
        "id": "MDxa8u2OFFq2"
      },
      "outputs": [],
      "source": [
        "class Node:\n",
        "\n",
        "    def __init__(self, data):\n",
        "      self.data = data\n",
        "      self.next = None\n",
        "      self.prev = None"
      ]
    },
    {
      "cell_type": "code",
      "source": [
        "class LinkedList:\n",
        "  def __init__(self):\n",
        "    self.root = None\n",
        "    self.size = 0\n",
        "\n",
        "\n",
        "  def append(self, elem):\n",
        "    #Insersão quando a lista não está vazia\n",
        "    if self.root:\n",
        "      ponteiro = self.root\n",
        "      while ponteiro.next:\n",
        "        ponteiro = ponteiro.next\n",
        "      ponteiro.next = Node(elem)\n",
        "\n",
        "    else:\n",
        "      # primeira insersão\n",
        "      self.root = Node(elem)\n",
        "    self.size += 1\n",
        "\n",
        "  def __len__(self):\n",
        "    return self.size\n",
        "\n",
        "  def __get__(self, idx):\n",
        "    pass\n",
        "\n",
        "  def __item(self, idx, elem):\n",
        "    pass\n",
        "\n",
        "  def __getitem__(self, idx):\n",
        "    ponteiro = self.root #inicializa o primeiro elemento da lista\n",
        "    #a= lista[3]\n",
        "    ''' Checa se o index está contido na lista'''\n",
        "    for i in range(idx):\n",
        "      if ponteiro:\n",
        "        ponteiro = ponteiro.next\n",
        "      else:\n",
        "        raise IndexError('list index out of range')\n",
        "\n",
        "    if ponteiro:\n",
        "      return ponteiro.data\n",
        "    raise IndexError('list index out of range')\n",
        "\n",
        "  def __setitem__(self, idx, elem):\n",
        "    ponteiro = self.root #inicializa o primeiro elemento da lista\n",
        "    #lista[3]=a\n",
        "    for i in range(idx): # Checa se o index está contido na lista\n",
        "      if ponteiro:\n",
        "        ponteiro = ponteiro.next\n",
        "      else:\n",
        "        raise IndexError('list index out of range')\n",
        "\n",
        "    if ponteiro:\n",
        "      ponteiro.data = elem\n",
        "    else:\n",
        "      raise IndexError('list index out of range')\n",
        "\n",
        "  def __index__(self, elem):\n",
        "    ponteiro = self.root\n",
        "    cont= 0\n",
        "    while ponteiro: # Checa se o nó tem dado\n",
        "      if ponteiro.data == elem:\n",
        "        return cont\n",
        "      else:\n",
        "        ponteiro = ponteiro.next\n",
        "        cont += 1\n",
        "\n",
        "    raise ValueError(f'{elem} is not in list')"
      ],
      "metadata": {
        "id": "vP5BCeerIBtx"
      },
      "execution_count": 35,
      "outputs": []
    },
    {
      "cell_type": "code",
      "source": [
        "lista = LinkedList()\n",
        "lista.append(8)\n",
        "lista.append(18)\n",
        "lista.append(54)"
      ],
      "metadata": {
        "id": "C6cCOqYjYS6V"
      },
      "execution_count": 36,
      "outputs": []
    },
    {
      "cell_type": "code",
      "source": [
        "len(lista)"
      ],
      "metadata": {
        "colab": {
          "base_uri": "https://localhost:8080/"
        },
        "id": "hBuBFSBiS5Pd",
        "outputId": "d1819361-856a-497f-8c7a-7d7d7a6a3dcc"
      },
      "execution_count": 37,
      "outputs": [
        {
          "output_type": "execute_result",
          "data": {
            "text/plain": [
              "3"
            ]
          },
          "metadata": {},
          "execution_count": 37
        }
      ]
    },
    {
      "cell_type": "code",
      "source": [
        "lista[0]"
      ],
      "metadata": {
        "colab": {
          "base_uri": "https://localhost:8080/"
        },
        "id": "_HvjW_OJe1b7",
        "outputId": "0a0f0fed-c836-4266-c099-0ab7b1ec71ca"
      },
      "execution_count": 38,
      "outputs": [
        {
          "output_type": "execute_result",
          "data": {
            "text/plain": [
              "8"
            ]
          },
          "metadata": {},
          "execution_count": 38
        }
      ]
    },
    {
      "cell_type": "code",
      "source": [
        "lista[1]\n"
      ],
      "metadata": {
        "id": "w9yDmyYsjA7S",
        "outputId": "bfdbfa4d-8e30-4cd7-f585-8e0ffa2529d4",
        "colab": {
          "base_uri": "https://localhost:8080/"
        }
      },
      "execution_count": 39,
      "outputs": [
        {
          "output_type": "execute_result",
          "data": {
            "text/plain": [
              "18"
            ]
          },
          "metadata": {},
          "execution_count": 39
        }
      ]
    },
    {
      "cell_type": "code",
      "source": [
        "lista[2]"
      ],
      "metadata": {
        "id": "fD4wNbQESHiA",
        "outputId": "b12dff86-1f87-4735-96cc-17920708158c",
        "colab": {
          "base_uri": "https://localhost:8080/"
        }
      },
      "execution_count": 40,
      "outputs": [
        {
          "output_type": "execute_result",
          "data": {
            "text/plain": [
              "54"
            ]
          },
          "metadata": {},
          "execution_count": 40
        }
      ]
    },
    {
      "cell_type": "code",
      "source": [
        "lista.index(8)"
      ],
      "metadata": {
        "id": "oenWCWU8cDCE",
        "outputId": "fad63269-4b6e-4460-b15e-568c733dfa12",
        "colab": {
          "base_uri": "https://localhost:8080/",
          "height": 141
        }
      },
      "execution_count": 41,
      "outputs": [
        {
          "output_type": "error",
          "ename": "AttributeError",
          "evalue": "'LinkedList' object has no attribute 'index'",
          "traceback": [
            "\u001b[0;31m---------------------------------------------------------------------------\u001b[0m",
            "\u001b[0;31mAttributeError\u001b[0m                            Traceback (most recent call last)",
            "\u001b[0;32m<ipython-input-41-fa12942f53aa>\u001b[0m in \u001b[0;36m<cell line: 1>\u001b[0;34m()\u001b[0m\n\u001b[0;32m----> 1\u001b[0;31m \u001b[0mlista\u001b[0m\u001b[0;34m.\u001b[0m\u001b[0mindex\u001b[0m\u001b[0;34m(\u001b[0m\u001b[0;36m8\u001b[0m\u001b[0;34m)\u001b[0m\u001b[0;34m\u001b[0m\u001b[0;34m\u001b[0m\u001b[0m\n\u001b[0m",
            "\u001b[0;31mAttributeError\u001b[0m: 'LinkedList' object has no attribute 'index'"
          ]
        }
      ]
    },
    {
      "cell_type": "code",
      "source": [],
      "metadata": {
        "id": "K5Va2ecRcHmT"
      },
      "execution_count": null,
      "outputs": []
    }
  ]
}