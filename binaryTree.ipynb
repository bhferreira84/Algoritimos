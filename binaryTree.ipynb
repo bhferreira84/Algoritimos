{
  "nbformat": 4,
  "nbformat_minor": 0,
  "metadata": {
    "colab": {
      "provenance": [],
      "authorship_tag": "ABX9TyPy9rQPfrKJqKg6zukIhOgu",
      "include_colab_link": true
    },
    "kernelspec": {
      "name": "python3",
      "display_name": "Python 3"
    },
    "language_info": {
      "name": "python"
    }
  },
  "cells": [
    {
      "cell_type": "markdown",
      "metadata": {
        "id": "view-in-github",
        "colab_type": "text"
      },
      "source": [
        "<a href=\"https://colab.research.google.com/github/bhferreira84/Algoritimos/blob/main/binaryTree.ipynb\" target=\"_parent\"><img src=\"https://colab.research.google.com/assets/colab-badge.svg\" alt=\"Open In Colab\"/></a>"
      ]
    },
    {
      "cell_type": "code",
      "execution_count": 25,
      "metadata": {
        "id": "SP3Z5Eb_ZrMh"
      },
      "outputs": [],
      "source": [
        "class Node:\n",
        "\n",
        "    def __init__(self, data):\n",
        "      self.data = data\n",
        "      self.right = None\n",
        "      self.left = None\n",
        "\n",
        "    def __str__(self):\n",
        "      return str(self.data)"
      ]
    },
    {
      "cell_type": "code",
      "source": [
        "class BinaryTree:\n",
        "  def __init__(self, data=None):\n",
        "    if data:\n",
        "      node = Node(data)\n",
        "      self.root = node\n",
        "    else:\n",
        "      self.root = None\n",
        "\n",
        "  def inorder(self, node=None):\n",
        "    if node is None:\n",
        "      node =self.root\n",
        "    if node.left:\n",
        "      print('(',end='')\n",
        "      self.inorder(node.left)\n",
        "    print(f'{node}', end ='')\n",
        "    if node.right:\n",
        "      self.inorder(node.right)\n",
        "      print(')', end ='')"
      ],
      "metadata": {
        "id": "Eu9_NpYtaGEt"
      },
      "execution_count": 39,
      "outputs": []
    },
    {
      "cell_type": "code",
      "source": [
        "# tree = BinaryTree(7)\n",
        "# tree.root.left = Node(18)\n",
        "# tree.root.right = Node(14)"
      ],
      "metadata": {
        "id": "6uSd6ze3GU6l"
      },
      "execution_count": 8,
      "outputs": []
    },
    {
      "cell_type": "code",
      "source": [
        "# print(f'Raiz = {tree.root}\\nNó esquerdo = {tree.root.left}\\nNó direito = {tree.root.right}')"
      ],
      "metadata": {
        "id": "4beSOfupHNZl"
      },
      "execution_count": 9,
      "outputs": []
    },
    {
      "cell_type": "code",
      "source": [
        "tree = BinaryTree()\n",
        "n1 = Node('a')\n",
        "n2 = Node('+')\n",
        "n3 = Node('*')\n",
        "n4 = Node('b')\n",
        "n5 = Node('-')\n",
        "n6 = Node('/')\n",
        "n7 = Node('c')\n",
        "n8 = Node('d')\n",
        "n9 = Node('e')\n",
        "\n",
        "n6.left = n7\n",
        "n6.right = n8\n",
        "n5.left = n6\n",
        "n5.right = n9\n",
        "n3.left = n4\n",
        "n3.right = n5\n",
        "n2.left = n1\n",
        "n2.right = n3\n",
        "\n",
        "tree.root = n2\n",
        "\n"
      ],
      "metadata": {
        "id": "jy3tkGv8HRv_"
      },
      "execution_count": 40,
      "outputs": []
    },
    {
      "cell_type": "code",
      "source": [
        "tree.inorder()"
      ],
      "metadata": {
        "id": "aDNK8WQBPzeH",
        "outputId": "6d0ab7c6-0116-4302-a6a9-55d0807b8cd5",
        "colab": {
          "base_uri": "https://localhost:8080/"
        }
      },
      "execution_count": 41,
      "outputs": [
        {
          "output_type": "stream",
          "name": "stdout",
          "text": [
            "(a+(b*((c/d)-e)))"
          ]
        }
      ]
    }
  ]
}